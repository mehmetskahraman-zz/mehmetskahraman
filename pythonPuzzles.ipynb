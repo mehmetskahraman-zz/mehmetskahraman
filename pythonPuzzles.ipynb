{
  "nbformat": 4,
  "nbformat_minor": 0,
  "metadata": {
    "colab": {
      "name": "pythonPuzzles.ipynb",
      "provenance": [],
      "authorship_tag": "ABX9TyPRFxUBno8zfVQ1GYNa2wog",
      "include_colab_link": true
    },
    "kernelspec": {
      "name": "python3",
      "display_name": "Python 3"
    },
    "language_info": {
      "name": "python"
    }
  },
  "cells": [
    {
      "cell_type": "markdown",
      "metadata": {
        "id": "view-in-github",
        "colab_type": "text"
      },
      "source": [
        "<a href=\"https://colab.research.google.com/github/mehmetskahraman/mehmetskahraman/blob/main/pythonPuzzles.ipynb\" target=\"_parent\"><img src=\"https://colab.research.google.com/assets/colab-badge.svg\" alt=\"Open In Colab\"/></a>"
      ]
    },
    {
      "cell_type": "markdown",
      "metadata": {
        "id": "OvdDuZg-XnaW"
      },
      "source": [
        "### **pythonPuzzles**\n",
        "---\n",
        "\n",
        "\n",
        "```\n",
        "# Bu, kod olarak biçimlendirilmiştir\n",
        "```\n",
        "\n"
      ]
    },
    {
      "cell_type": "code",
      "metadata": {
        "id": "yeNVgCPbuFcB"
      },
      "source": [
        "def factorial(n):\n",
        "    if n == 1:\n",
        "      return n\n",
        "    return n*factorial(n-1)\n",
        "factorial(336)"
      ],
      "execution_count": null,
      "outputs": []
    },
    {
      "cell_type": "code",
      "metadata": {
        "id": "fIdBbXd5bGoI"
      },
      "source": [
        "def FirstFactorial(num):\n",
        "  if num == 1:\n",
        "   return num\n",
        "  return num*FirstFactorial(num-1)\n",
        "FirstFactorial(6)"
      ],
      "execution_count": null,
      "outputs": []
    },
    {
      "cell_type": "code",
      "metadata": {
        "id": "MzwO1JIbvIhB"
      },
      "source": [
        "def square(num):\n",
        "  return num**2\n",
        "x = [1, 2, 3, 4, 5]\n",
        "s = list(map(square, x))\n",
        "print(s)"
      ],
      "execution_count": null,
      "outputs": []
    },
    {
      "cell_type": "code",
      "metadata": {
        "id": "wLgxK8P28V2N"
      },
      "source": [
        "#!apt install calendar\n",
        "import calendar\n",
        "year = 2001\n",
        "print(calendar.calendar(year))"
      ],
      "execution_count": null,
      "outputs": []
    },
    {
      "cell_type": "code",
      "metadata": {
        "id": "wicMqo7HiNEI"
      },
      "source": [
        "3*1**3"
      ],
      "execution_count": null,
      "outputs": []
    },
    {
      "cell_type": "code",
      "metadata": {
        "id": "tZdacSF5izZt"
      },
      "source": [
        "\"2\"*3"
      ],
      "execution_count": null,
      "outputs": []
    },
    {
      "cell_type": "code",
      "metadata": {
        "id": "LORRAikyMD08"
      },
      "source": [
        "not(3>4)"
      ],
      "execution_count": null,
      "outputs": []
    },
    {
      "cell_type": "code",
      "metadata": {
        "id": "6KweqKEli_xL"
      },
      "source": [
        "not(5<9)"
      ],
      "execution_count": null,
      "outputs": []
    },
    {
      "cell_type": "code",
      "metadata": {
        "id": "Otg82Vu0rkQK"
      },
      "source": [
        "a=[x*2 for x in range(10)]\n",
        "print(a)"
      ],
      "execution_count": null,
      "outputs": []
    },
    {
      "cell_type": "code",
      "metadata": {
        "id": "b0N-Y9IFvfSh"
      },
      "source": [
        "a=[1, 2]\n",
        "a[::-1]"
      ],
      "execution_count": null,
      "outputs": []
    },
    {
      "cell_type": "code",
      "metadata": {
        "id": "5GKRQclw-7X4"
      },
      "source": [
        "%pip install pillow\n",
        "%pip install qrcode\n",
        "import qrcode\n",
        "# Link for website\n",
        "input_data = \"https://www.linkedin.com/in/mehmet-kahraman/\"\n",
        "#Creating an instance of qrcode\n",
        "qr = qrcode.QRCode(\n",
        "        version=1,\n",
        "        box_size=10,\n",
        "        border=5)\n",
        "qr.add_data(input_data)\n",
        "qr.make(fit=True)\n",
        "img = qr.make_image(fill='black', back_color='white')\n",
        "img.save('qrcode001.png')"
      ],
      "execution_count": null,
      "outputs": []
    },
    {
      "cell_type": "code",
      "metadata": {
        "id": "ufG2ixRj_EfT"
      },
      "source": [
        "pip install dist-package"
      ],
      "execution_count": null,
      "outputs": []
    },
    {
      "cell_type": "code",
      "metadata": {
        "id": "rcwZ-jqi_GJo"
      },
      "source": [
        "pip show dist_package"
      ],
      "execution_count": null,
      "outputs": []
    },
    {
      "cell_type": "code",
      "metadata": {
        "id": "-aVybQ9U3C5M"
      },
      "source": [
        "2+3"
      ],
      "execution_count": null,
      "outputs": []
    },
    {
      "cell_type": "code",
      "metadata": {
        "id": "2hLceqsC4JlQ"
      },
      "source": [
        "2.4+5"
      ],
      "execution_count": null,
      "outputs": []
    },
    {
      "cell_type": "code",
      "metadata": {
        "id": "zlSW9VYc4aIH"
      },
      "source": [
        "7-3"
      ],
      "execution_count": null,
      "outputs": []
    },
    {
      "cell_type": "code",
      "metadata": {
        "id": "LeAmFMYT4ooS"
      },
      "source": [
        "5*3.1"
      ],
      "execution_count": null,
      "outputs": []
    },
    {
      "cell_type": "code",
      "metadata": {
        "id": "vxhb0zucDOpb"
      },
      "source": [
        "if __name__ == '__main__':\n",
        "    a = int(input())\n",
        "    b = int(input())\n",
        "    #print(a+b)\n",
        "    #print(a-b)\n",
        "    print(a*b)"
      ],
      "execution_count": null,
      "outputs": []
    },
    {
      "cell_type": "code",
      "metadata": {
        "id": "dnUEKVasCgqJ"
      },
      "source": [
        "# Mutations in Python - HackerRank Solution\n",
        "def mutate_string(string, position, character):\n",
        "    # Mutations in Python - HackerRank Solution START\n",
        "    pos = position+1\n",
        "    Output = string[:position]+character+string[pos:]\n",
        "    return Output\n",
        "    # Mutations in Python - HackerRank Solution END\n",
        "if __name__ == '__main__':\n",
        "    s = input()\n",
        "    i, c = input().split()\n",
        "    s_new = mutate_string(s, int(i), c)\n",
        "    print(s_new)"
      ],
      "execution_count": null,
      "outputs": []
    },
    {
      "cell_type": "code",
      "metadata": {
        "id": "gXsVxfTe-8pZ"
      },
      "source": [
        "def mutate_string(string, position, character):\n",
        "    \n",
        "  list2=list(string)\n",
        "  list2[5]=character\n",
        "  string.replace(random(), random())\n",
        "  return ''.join(list2)\n",
        " \n",
        "if __name__ == '__main__':\n",
        "    s = input()\n",
        "    i, c = input().split()\n",
        "    s_new = mutate_string(s, int(i), c)\n",
        "    print(s_new)"
      ],
      "execution_count": null,
      "outputs": []
    },
    {
      "cell_type": "code",
      "metadata": {
        "id": "nupPhV_7Jf18"
      },
      "source": [
        "import heapq\n",
        " \n",
        "myString = ['S','O','O','K','S']\n",
        " \n",
        "heapq.heapify(myString)\n",
        "print(myString)\n",
        " \n",
        "heapq.heapreplace(myString,\"#\")\n",
        "string2=['M','A','S']\n",
        " \n",
        "heapq.heappush(myString,string2)\n",
        "print(myString)"
      ],
      "execution_count": null,
      "outputs": []
    },
    {
      "cell_type": "code",
      "metadata": {
        "id": "EQMgFCxNUOMy"
      },
      "source": [
        "import random\n",
        " \n",
        "list = []\n",
        " \n",
        "def hippycase(string):\n",
        "    for letter in string:\n",
        "        list.append(letter)\n",
        " \n",
        "    for index in list:\n",
        "        if random.randint(1,2) == 1:\n",
        "            list[] = list[int].upper()\n",
        "        else:\n",
        "            list[] = list[int].lower()\n",
        "    return list\n",
        " \n",
        "print(hippycase(\"pineapple\"))"
      ],
      "execution_count": null,
      "outputs": []
    },
    {
      "cell_type": "code",
      "metadata": {
        "id": "XQGa3WeesxFs"
      },
      "source": [
        "# TODO: compare and contrast the behavior of the following two functions\n",
        "# Call these functions and see how they are different from one another!\n",
        "def list_add_one_mutate(my_list):\n",
        "    for i in range(len(my_list)):\n",
        "        my_list[i] += 1"
      ],
      "execution_count": null,
      "outputs": []
    },
    {
      "cell_type": "code",
      "metadata": {
        "id": "TToYH70aG24_"
      },
      "source": [
        "import random\n",
        "mystr = input()\n",
        "def random_point_mutater(str):\n",
        "    coding_alph = list(str)\n",
        "    alphabet = ['A', 'B', 'C', 'D', 'E', 'F', 'G', 'H', 'I', 'J', 'K', 'L', 'M', 'N', 'O', 'P', 'Q', 'R', 'S', 'T', 'U', 'V', 'W', 'X', 'Y', 'Z'] # to create an list of alphabet\n",
        "    a = random.randint(0, len(str))# takes length of the sequence and gererates a random number between 0 and length\n",
        "    c = random.randint(0,26)\n",
        "    b = alphabet[c] # chooses a random letter alphabet\n",
        "    popped= coding_alph.pop(a) #remove that letter from the sequence\n",
        "    while b == popped:\n",
        "          b = alphabet[c]    # to prevent changing the same letter \n",
        "    coding_alph.insert(a, b)# inserts the new letter to the location which is empty now\n",
        "    back_to_str = \"\".join(coding_alph)\n",
        "    print(a) # to see which index did it choose\n",
        "    print(back_to_str) #to print mutated sequence\n",
        "    print(\"instead of\" +\" \"+ popped + \" \"+ \"now you have\" + \" \"+ b )# a clarification of which base left and which base in\n",
        " \n",
        " \n",
        "random_point_mutater(mystr)"
      ],
      "execution_count": null,
      "outputs": []
    },
    {
      "cell_type": "code",
      "metadata": {
        "id": "8-IGXZ3AvtPP"
      },
      "source": [
        "# Python program showing how to\n",
        "# multiple input using split\n",
        "\n",
        "# taking two inputs at a time\n",
        "x, y = input(\"Enter a two value: \").split()\n",
        "print(\"Number of boys: \", x)\n",
        "print(\"Number of girls: \", y)\n",
        "print()\n",
        "\n",
        "# taking three inputs at a time\n",
        "x, y, z = input(\"Enter a three value: \").split()\n",
        "print(\"Total number of students: \", x)\n",
        "print(\"Number of boys is : \", y)\n",
        "print(\"Number of girls is : \", z)\n",
        "print()\n",
        "\n",
        "# taking two inputs at a time\n",
        "a, b = input(\"Enter a two value: \").split()\n",
        "print(\"First number is {} and second number is {}\".format(a, b))\n",
        "print()\n",
        "\n",
        "# taking multiple inputs at a time\n",
        "# and type casting using list() function\n",
        "x = list(map(int, input(\"Enter a multiple value: \").split()))\n",
        "print(\"List of students: \", x)"
      ],
      "execution_count": null,
      "outputs": []
    },
    {
      "cell_type": "code",
      "metadata": {
        "id": "RbhV8PP7wblO"
      },
      "source": [
        "# Python program showing\n",
        "# how to take multiple input\n",
        "# using List comprehension\n",
        " \n",
        "# taking two input at a time\n",
        "x, y = [int(x) for x in input(\"Enter two value: \").split()]\n",
        "print(\"First Number is: \", x)\n",
        "print(\"Second Number is: \", y)\n",
        "print()\n",
        " \n",
        "# taking three input at a time\n",
        "x, y, z = [int(x) for x in input(\"Enter three value: \").split()]\n",
        "print(\"First Number is: \", x)\n",
        "print(\"Second Number is: \", y)\n",
        "print(\"Third Number is: \", z)\n",
        "print()\n",
        " \n",
        "# taking two inputs at a time\n",
        "x, y = [int(x) for x in input(\"Enter two value: \").split()]\n",
        "print(\"First number is {} and second number is {}\".format(x, y))\n",
        "print()\n",
        " \n",
        "# taking multiple inputs at a time\n",
        "x = [int(x) for x in input(\"Enter multiple value: \").split()]\n",
        "print(\"Number of list is: \", x)"
      ],
      "execution_count": null,
      "outputs": []
    },
    {
      "cell_type": "code",
      "metadata": {
        "id": "tOSf3-23MVBu"
      },
      "source": [
        "def star_triangle(n):\n",
        " for i in range(n):\n",
        "  print(\" \"*(n-1-i), end=\"\")\n",
        "  print(\"*\"*((i*2)+1))\n",
        "star_triangle(10)"
      ],
      "execution_count": null,
      "outputs": []
    },
    {
      "cell_type": "code",
      "metadata": {
        "id": "Jq3nSremSRzU"
      },
      "source": [
        "a=76/12\n",
        "print(a)"
      ],
      "execution_count": null,
      "outputs": []
    },
    {
      "cell_type": "markdown",
      "metadata": {
        "id": "U2IDlLmJXOa-"
      },
      "source": [
        "### **string_Xperiments**\n",
        "\n",
        "\n",
        "```\n",
        "# Bu, kod olarak biçimlendirilmiştir\n",
        "```\n",
        "\n"
      ]
    },
    {
      "cell_type": "code",
      "metadata": {
        "id": "UJOGTMI7d-Dm"
      },
      "source": [
        "strangeString=\"This is the first time that I am using string functions for experimental experience on Python.\"\n",
        "novaList=list(strangeString)\n",
        "s=len(novaList)\n",
        "print(s)"
      ],
      "execution_count": null,
      "outputs": []
    },
    {
      "cell_type": "code",
      "metadata": {
        "id": "wh8qA1rUnOaH"
      },
      "source": [
        "bootcamp=\"kodluyoruz\"\n",
        "len(set(bootcamp))"
      ],
      "execution_count": null,
      "outputs": []
    },
    {
      "cell_type": "code",
      "metadata": {
        "id": "niFQIDe7nleN"
      },
      "source": [
        "\"Bugün İstanbul\\'dan İstanbul\\'a 30 dakikada gittim.\""
      ],
      "execution_count": null,
      "outputs": []
    },
    {
      "cell_type": "code",
      "metadata": {
        "id": "EL4qTNdrn9-z"
      },
      "source": [
        "myString=\"Malazgirt\"\n",
        "print(myString[4])"
      ],
      "execution_count": null,
      "outputs": []
    },
    {
      "cell_type": "code",
      "metadata": {
        "id": "V8qET12ioI7B"
      },
      "source": [
        "myNewString=\"Antakya\"\n",
        "n_list=list(myNewString)\n",
        "n_list[5]='i'\n",
        "myNewString=''.join(n_list)\n",
        "print(myNewString)"
      ],
      "execution_count": null,
      "outputs": []
    },
    {
      "cell_type": "code",
      "metadata": {
        "id": "YsqEXsNjo_32"
      },
      "source": [
        "str=\"HocusPocus\"\n",
        "str=str[:5]+'F'+str[6:]\n",
        "print(str)"
      ],
      "execution_count": null,
      "outputs": []
    },
    {
      "cell_type": "code",
      "metadata": {
        "id": "AY-fe3nUqe9I"
      },
      "source": [
        "novaStr=\"ebekusagi\"\n",
        "novaStr=novaStr[:5]+'sh'+novaStr[6:]\n",
        "print(novaStr)"
      ],
      "execution_count": null,
      "outputs": []
    },
    {
      "cell_type": "code",
      "metadata": {
        "id": "vKRZ0LQ_raOD"
      },
      "source": [
        "randomness=\"randomnessrandomnessrandomnessrandomnessrandomnessrandomnessrandomnessrandomnessrandomnessrandomnessrandomnessrandomnessrandomnessrandomnessrandomnessrandomnessrandomnessrandomnessrandomnessrandomnessrandomnessrandomnessrandomnessrandomnessrandomnessrandomnessrandomnessrandomnessrandomnessrandomnessrandomnessrandomnessrandomnessrandomnessrandomnessrandomnessrandomnessrandomnessrandomnessrandomnessrandomnessrandomnessrandomnessrandomnessrandomnessrandomnessrandomnessrandomnessrandomnessrandomnessrandomnessrandomnessrandomnessrandomnessrandomnessrandomnessrandomnessrandomnessrandomnessrandomnessrandomnessrandomnessrandomnessrandomnessrandomnessrandomnessrandomnessrandomnessrandomnessrandomnessrandomnessrandomnessrandomnessrandomnessrandomnessrandomnessrandomnessrandomnessrandomnessrandomnessrandomnessrandomnessrandomnessrandomnessrandomnessrandomnessrandomnessrandomnessrandomnessrandomnessrandomnessrandomnessrandomnessrandomnessrandomnessrandomnessrandomnessrandomnessrandomnessrandomness\"\n",
        "len(randomness)\n",
        "print(len(randomness))"
      ],
      "execution_count": null,
      "outputs": []
    },
    {
      "cell_type": "code",
      "metadata": {
        "id": "sKJ8sP8MsE0g"
      },
      "source": [
        "alphabets_in_capital=[]\n",
        "alphabets_in_capital\n",
        "for i in range(65, 91):\n",
        "    alphabets_in_capital.append(chr(i))\n",
        "    print(alphabets_in_capital)\n",
        "print(len(alphabets_in_capital))"
      ],
      "execution_count": null,
      "outputs": []
    },
    {
      "cell_type": "code",
      "metadata": {
        "id": "EkklOev8NsMt"
      },
      "source": [
        "alphabets_in_capital=[]\n",
        "alphabets_in_capital\n",
        "for i in range(65, 91):\n",
        "    alphabets_in_capital.append(chr(i))\n",
        "    print(alphabets_in_capital)\n",
        "    print(len(alphabets_in_capital))"
      ],
      "execution_count": null,
      "outputs": []
    },
    {
      "cell_type": "code",
      "metadata": {
        "id": "h8YdiCFeN15z"
      },
      "source": [
        "alphabets_in_capital=[]\n",
        "alphabets_in_capital\n",
        "for i in range(65, 91):\n",
        "    alphabets_in_capital.append(chr(i))\n",
        "print(alphabets_in_capital)\n",
        "print(len(alphabets_in_capital))"
      ],
      "execution_count": null,
      "outputs": []
    },
    {
      "cell_type": "code",
      "metadata": {
        "id": "G0ftseAlOQx2"
      },
      "source": [
        "alphabets_in_lowercase=[]\n",
        "alphabets_in_lowercase\n",
        "for i in range(97, 121):\n",
        "    alphabets_in_lowercase.append(chr(i))\n",
        "print(alphabets_in_lowercase)\n",
        "print(len(alphabets_in_lowercase))"
      ],
      "execution_count": null,
      "outputs": []
    },
    {
      "cell_type": "code",
      "metadata": {
        "id": "QF9aykpzSROn"
      },
      "source": [
        "if (9<0) and (0<-9):\n",
        "    print(\"kodluyoruz\")\n",
        "elif (9>0) or False:\n",
        "    print(\"Python\")\n",
        "else:\n",
        "    print(\"bootcamp\")"
      ],
      "execution_count": null,
      "outputs": []
    }
  ]
}