{
  "cells": [
    {
      "cell_type": "markdown",
      "metadata": {
        "id": "view-in-github",
        "colab_type": "text"
      },
      "source": [
        "<a href=\"https://colab.research.google.com/github/mehmetskahraman/mehmetskahraman/blob/main/PythonLab.ipynb\" target=\"_parent\"><img src=\"https://colab.research.google.com/assets/colab-badge.svg\" alt=\"Open In Colab\"/></a>"
      ]
    },
    {
      "cell_type": "code",
      "execution_count": null,
      "metadata": {
        "id": "GYYAb3SME2AG"
      },
      "outputs": [],
      "source": [
        "import random\n",
        "r=random.random()\n",
        "if r in range(100_000):\n",
        "    print(r)"
      ]
    },
    {
      "cell_type": "markdown",
      "metadata": {
        "id": "_VhHsMVBjO8C"
      },
      "source": [
        "# **PASSWORD GENERATOR**"
      ]
    },
    {
      "cell_type": "code",
      "execution_count": null,
      "metadata": {
        "colab": {
          "background_save": true,
          "base_uri": "https://localhost:8080/"
        },
        "id": "V5rqYnZ6QC6E",
        "outputId": "d9faa4ba-3113-4368-e8a8-267661b90d56"
      },
      "outputs": [
        {
          "name": "stdout",
          "output_type": "stream",
          "text": [
            "Hi, welcome to Password Generator!\n"
          ]
        }
      ],
      "source": [
        "# Password Generator\n",
        "import random\n",
        "import string\n",
        "\n",
        "print('Hi, welcome to Password Generator!')\n",
        "\n",
        "length = int(input(\"\\nPlease, enter length of password: \"))\n",
        "lower = string.ascii_lowercase\n",
        "upper = string.ascii_uppercase\n",
        "digits = string.digits\n",
        "symbols = string.punctuation\n",
        "\n",
        "all = lower + upper + digits + symbols\n",
        "temp = random.sample(all, length)\n",
        "password = ''.join(temp)\n",
        "print(password)\n",
        "print(len(password))"
      ]
    },
    {
      "cell_type": "markdown",
      "metadata": {
        "id": "YPGSV2anjowq"
      },
      "source": [
        "# **Hello World!**"
      ]
    },
    {
      "cell_type": "code",
      "execution_count": null,
      "metadata": {
        "id": "Mhqp8jqClb9M"
      },
      "outputs": [],
      "source": [
        "#TenThousandTimesWithPython-20/04/2022-23:39-1\n",
        "print(\"Hi, Stardust\")"
      ]
    },
    {
      "cell_type": "code",
      "execution_count": null,
      "metadata": {
        "id": "6k7aPQo2j3AC"
      },
      "outputs": [],
      "source": [
        "Nida = \"MERHABA\"\n",
        "print(Nida, \"Nida\", \"MERHABA\"[4::])"
      ]
    },
    {
      "cell_type": "code",
      "execution_count": null,
      "metadata": {
        "id": "5zvrYGnolzfo"
      },
      "outputs": [],
      "source": [
        "Nida = \"MERHABA\"\n",
        "print(Nida, \"Nida\", Nida[4::])"
      ]
    },
    {
      "cell_type": "code",
      "source": [
        "str."
      ],
      "metadata": {
        "id": "URqIgNTC0cqZ"
      },
      "execution_count": null,
      "outputs": []
    },
    {
      "cell_type": "markdown",
      "metadata": {
        "id": "iJYdj7e3whzk"
      },
      "source": [
        "# **Python Basics**\n",
        "\n",
        "---\n",
        "\n"
      ]
    },
    {
      "cell_type": "markdown",
      "metadata": {
        "id": "IV86wO12yMh0"
      },
      "source": [
        "# Temel Veri Tipleri (Basic Data Types)"
      ]
    },
    {
      "cell_type": "markdown",
      "metadata": {
        "id": "KDoi4dD0BjaB"
      },
      "source": [
        "## Integers (tam sayılar)\n",
        "kusurlu, küsurlu olmayan sayılar"
      ]
    },
    {
      "cell_type": "code",
      "execution_count": null,
      "metadata": {
        "id": "TEiwYZRWzN0q"
      },
      "outputs": [],
      "source": [
        "2"
      ]
    },
    {
      "cell_type": "code",
      "execution_count": null,
      "metadata": {
        "id": "oPTGdQ7x0iyr"
      },
      "outputs": [],
      "source": [
        "-3"
      ]
    },
    {
      "cell_type": "code",
      "execution_count": null,
      "metadata": {
        "id": "VxO8At0D0rhZ"
      },
      "outputs": [],
      "source": [
        "2 + 2"
      ]
    },
    {
      "cell_type": "code",
      "execution_count": null,
      "metadata": {
        "id": "ZKy2tUkW0yOk"
      },
      "outputs": [],
      "source": [
        "8 - 2"
      ]
    },
    {
      "cell_type": "code",
      "execution_count": null,
      "metadata": {
        "id": "khj2ISpj00qf"
      },
      "outputs": [],
      "source": [
        "2*2"
      ]
    },
    {
      "cell_type": "markdown",
      "metadata": {
        "id": "1iJmteEu6xSx"
      },
      "source": [
        "## Floats (Kesirli Sayırlar)"
      ]
    },
    {
      "cell_type": "code",
      "execution_count": null,
      "metadata": {
        "id": "Y0Z2w37J02F3"
      },
      "outputs": [],
      "source": [
        "12/3"
      ]
    },
    {
      "cell_type": "code",
      "execution_count": null,
      "metadata": {
        "colab": {
          "base_uri": "https://localhost:8080/"
        },
        "id": "J-PO6hQL04fO",
        "outputId": "4ce9f6d9-8838-4900-da7f-11b47df10e66"
      },
      "outputs": [
        {
          "data": {
            "text/plain": [
              "2.3"
            ]
          },
          "execution_count": 4,
          "metadata": {},
          "output_type": "execute_result"
        }
      ],
      "source": [
        "2.3"
      ]
    },
    {
      "cell_type": "code",
      "execution_count": null,
      "metadata": {
        "id": "ETn3-fDz68R1"
      },
      "outputs": [],
      "source": [
        "2.0"
      ]
    },
    {
      "cell_type": "code",
      "execution_count": null,
      "metadata": {
        "id": "wabHsNyN69eg"
      },
      "outputs": [],
      "source": [
        "-4.5"
      ]
    },
    {
      "cell_type": "code",
      "execution_count": null,
      "metadata": {
        "id": "rdnxdgdl7E2l"
      },
      "outputs": [],
      "source": [
        "2.3 + 3.4"
      ]
    },
    {
      "cell_type": "code",
      "execution_count": null,
      "metadata": {
        "id": "gYvATgHh7Ld3"
      },
      "outputs": [],
      "source": [
        "2.2 * 2"
      ]
    },
    {
      "cell_type": "markdown",
      "metadata": {
        "id": "heJIX9AfBzGK"
      },
      "source": [
        "## Boolean\n",
        "Doğru mu yanlış mı mantık sorgulaması"
      ]
    },
    {
      "cell_type": "code",
      "execution_count": null,
      "metadata": {
        "id": "SS2T_ggdCoTK"
      },
      "outputs": [],
      "source": [
        "True"
      ]
    },
    {
      "cell_type": "code",
      "execution_count": null,
      "metadata": {
        "id": "y2hlFfrKColV"
      },
      "outputs": [],
      "source": [
        "False"
      ]
    },
    {
      "cell_type": "code",
      "execution_count": null,
      "metadata": {
        "id": "joB0fRkyCZ9C"
      },
      "outputs": [],
      "source": [
        "2 > 3"
      ]
    },
    {
      "cell_type": "code",
      "execution_count": null,
      "metadata": {
        "id": "leuzWyVETAk9"
      },
      "outputs": [],
      "source": [
        "False or True"
      ]
    },
    {
      "cell_type": "code",
      "execution_count": null,
      "metadata": {
        "id": "wVZtuFocTDzc"
      },
      "outputs": [],
      "source": [
        "True and False"
      ]
    },
    {
      "cell_type": "code",
      "execution_count": null,
      "metadata": {
        "id": "jro6qcs4THp3"
      },
      "outputs": [],
      "source": [
        "True or True"
      ]
    },
    {
      "cell_type": "markdown",
      "metadata": {
        "id": "FRQ7ysmFyqbO"
      },
      "source": [
        "## type()\n",
        "Objelerin tiplerine type() ile bakabiliriz."
      ]
    },
    {
      "cell_type": "code",
      "execution_count": null,
      "metadata": {
        "id": "jcGE3tOQDAUz"
      },
      "outputs": [],
      "source": [
        "type(2)"
      ]
    },
    {
      "cell_type": "code",
      "execution_count": null,
      "metadata": {
        "id": "ldr1xdNHDT_Q"
      },
      "outputs": [],
      "source": [
        "type(2.3)"
      ]
    },
    {
      "cell_type": "code",
      "execution_count": null,
      "metadata": {
        "id": "0sIiaqL1DULe"
      },
      "outputs": [],
      "source": [
        "type(True)"
      ]
    },
    {
      "cell_type": "markdown",
      "metadata": {
        "id": "NM87XelUDdaI"
      },
      "source": [
        "## Type Casting (Tip Dönüştürmesi)\n",
        "- Data objelerinin tipini değiştirebiliyoruz, buna `casting` deniyor"
      ]
    },
    {
      "cell_type": "code",
      "execution_count": null,
      "metadata": {
        "id": "71Q3cGTMDulV"
      },
      "outputs": [],
      "source": [
        "int(2.4)"
      ]
    },
    {
      "cell_type": "code",
      "execution_count": null,
      "metadata": {
        "id": "0Y_sfiaUETPm"
      },
      "outputs": [],
      "source": [
        "int(2.9)"
      ]
    },
    {
      "cell_type": "code",
      "execution_count": null,
      "metadata": {
        "id": "2uPhCU2REUWT"
      },
      "outputs": [],
      "source": [
        "float()"
      ]
    },
    {
      "cell_type": "markdown",
      "metadata": {
        "id": "n6ZXUa0zFg_U"
      },
      "source": [
        "# Değişken Atama (Variable Assignment)"
      ]
    },
    {
      "cell_type": "code",
      "execution_count": null,
      "metadata": {
        "id": "_ZcxAUeVFrWj"
      },
      "outputs": [],
      "source": [
        "a = 2\n",
        "a"
      ]
    },
    {
      "cell_type": "code",
      "execution_count": null,
      "metadata": {
        "id": "g14udjttURnZ"
      },
      "outputs": [],
      "source": [
        "a + 5"
      ]
    },
    {
      "cell_type": "code",
      "execution_count": null,
      "metadata": {
        "id": "je9Ol7kCU9CF"
      },
      "outputs": [],
      "source": [
        "b = 2 + 4\n",
        "b"
      ]
    },
    {
      "cell_type": "code",
      "execution_count": null,
      "metadata": {
        "id": "XwJ9gRzSVIO0"
      },
      "outputs": [],
      "source": [
        "b + 4"
      ]
    },
    {
      "cell_type": "markdown",
      "metadata": {
        "id": "SCxb3qFRzE8Q"
      },
      "source": [
        "# Operatörler ve İfadeler (Operators-Expressions)\n"
      ]
    },
    {
      "cell_type": "markdown",
      "metadata": {
        "id": "qdytrr2q2Wos"
      },
      "source": [
        "### + operator"
      ]
    },
    {
      "cell_type": "code",
      "execution_count": null,
      "metadata": {
        "id": "X5YV-dFjzHq2"
      },
      "outputs": [],
      "source": [
        "# İki tane integer'ın toplamı integer verir.\n",
        "2 + 2"
      ]
    },
    {
      "cell_type": "code",
      "execution_count": null,
      "metadata": {
        "id": "MqH13jVH1qgl"
      },
      "outputs": [],
      "source": [
        "type(2+2)"
      ]
    },
    {
      "cell_type": "code",
      "execution_count": null,
      "metadata": {
        "id": "DHlEKpmc1ziR"
      },
      "outputs": [],
      "source": [
        "# İki tane float'un toplamı float verir.\n",
        "2.4 + 2.5"
      ]
    },
    {
      "cell_type": "code",
      "execution_count": null,
      "metadata": {
        "id": "j_xzdBub12P7"
      },
      "outputs": [],
      "source": [
        "type(2.4 + 2.5)"
      ]
    },
    {
      "cell_type": "code",
      "execution_count": null,
      "metadata": {
        "id": "FSZXuWG316aq"
      },
      "outputs": [],
      "source": [
        "# Eğer objelerden biri bile float ise toplama işleminde expression'un tipi float olur.\n",
        "2.4 + 3"
      ]
    },
    {
      "cell_type": "code",
      "execution_count": null,
      "metadata": {
        "id": "FTp2yHvh2BTS"
      },
      "outputs": [],
      "source": [
        "type(2.4 + 3) "
      ]
    },
    {
      "cell_type": "markdown",
      "metadata": {
        "id": "3KkKem8Y2gTY"
      },
      "source": [
        "### - operator"
      ]
    },
    {
      "cell_type": "code",
      "execution_count": null,
      "metadata": {
        "id": "UJUfyi1t2rKi"
      },
      "outputs": [],
      "source": [
        "# İki tane integer'ın farkı integer verir.\n",
        "3 - 2"
      ]
    },
    {
      "cell_type": "code",
      "execution_count": null,
      "metadata": {
        "id": "7uBDaig92uox"
      },
      "outputs": [],
      "source": [
        "type(3 - 2)"
      ]
    },
    {
      "cell_type": "code",
      "execution_count": null,
      "metadata": {
        "id": "CidKrqoA2y7z"
      },
      "outputs": [],
      "source": [
        "# İki tane float'un farkı float verir.\n",
        "2.6 - 2.1"
      ]
    },
    {
      "cell_type": "code",
      "execution_count": null,
      "metadata": {
        "id": "VMe_obwx25ck"
      },
      "outputs": [],
      "source": [
        "# Eğer objelerden biri bile float ise çıkarma işleminde expression'un tipi float olur.\n",
        "2.5 - 3"
      ]
    },
    {
      "cell_type": "code",
      "execution_count": null,
      "metadata": {
        "id": "M4KkWOqG28mU"
      },
      "outputs": [],
      "source": [
        "type(2.5 - 3)"
      ]
    },
    {
      "cell_type": "markdown",
      "metadata": {
        "id": "phT-zWIB3sJd"
      },
      "source": [
        "### / operator\n",
        "İşleme giren objelerin tipi ne olursa olsun cevap float olur."
      ]
    },
    {
      "cell_type": "code",
      "execution_count": null,
      "metadata": {
        "id": "IAVp7_Fj34qS"
      },
      "outputs": [],
      "source": [
        "3 / 2"
      ]
    },
    {
      "cell_type": "code",
      "execution_count": null,
      "metadata": {
        "id": "E5hmtvN74BfZ"
      },
      "outputs": [],
      "source": [
        "3 / 1.5"
      ]
    },
    {
      "cell_type": "code",
      "execution_count": null,
      "metadata": {
        "id": "D9kFshCc4Dus"
      },
      "outputs": [],
      "source": [
        "2.4 / 0.6"
      ]
    },
    {
      "cell_type": "markdown",
      "metadata": {
        "id": "nEB-O73u6bZt"
      },
      "source": [
        "### // operator (int division)\n",
        "Eğer işleme girenlerden biri bile float ise cevap float olur.\n"
      ]
    },
    {
      "cell_type": "code",
      "execution_count": null,
      "metadata": {
        "id": "Z0ErW31z9L0h"
      },
      "outputs": [],
      "source": [
        "5 // 2"
      ]
    },
    {
      "cell_type": "code",
      "execution_count": null,
      "metadata": {
        "id": "vE2uKzTy9p3I"
      },
      "outputs": [],
      "source": [
        "5 // 2.5"
      ]
    },
    {
      "cell_type": "code",
      "execution_count": null,
      "metadata": {
        "id": "3Kl9lca19rbm"
      },
      "outputs": [],
      "source": [
        "4.2 // 5"
      ]
    },
    {
      "cell_type": "code",
      "execution_count": null,
      "metadata": {
        "id": "RP0ELRSo9tOm"
      },
      "outputs": [],
      "source": [
        "8.2 // 5"
      ]
    },
    {
      "cell_type": "markdown",
      "metadata": {
        "id": "cjWiMdNF93a0"
      },
      "source": [
        "### % operator (Remainder/kalan)\n",
        "Eğer kalan float ise cevap float olur yoksa integer olur."
      ]
    },
    {
      "cell_type": "code",
      "execution_count": null,
      "metadata": {
        "id": "MpkqkGm3961D"
      },
      "outputs": [],
      "source": [
        "5 % 2"
      ]
    },
    {
      "cell_type": "code",
      "execution_count": null,
      "metadata": {
        "id": "ySsrIJoU-Y4n"
      },
      "outputs": [],
      "source": [
        "10 % 3"
      ]
    },
    {
      "cell_type": "code",
      "execution_count": null,
      "metadata": {
        "id": "jv81uke6-agG"
      },
      "outputs": [],
      "source": [
        "2.5 % 2"
      ]
    },
    {
      "cell_type": "markdown",
      "metadata": {
        "id": "NQPNLww7-d1A"
      },
      "source": [
        "### ** operator\n",
        "Üst alma işlemi yapar."
      ]
    },
    {
      "cell_type": "code",
      "execution_count": null,
      "metadata": {
        "id": "OiaZaJ1X-gdE"
      },
      "outputs": [],
      "source": [
        "2 ** 3"
      ]
    },
    {
      "cell_type": "code",
      "execution_count": null,
      "metadata": {
        "id": "xXGMZCCp-ihp"
      },
      "outputs": [],
      "source": [
        "3 ** 2"
      ]
    },
    {
      "cell_type": "code",
      "execution_count": null,
      "metadata": {
        "id": "L_i1ki7V-kV2"
      },
      "outputs": [],
      "source": [
        "2.4 ** 2"
      ]
    },
    {
      "cell_type": "code",
      "execution_count": null,
      "metadata": {
        "id": "hztUMPgM-mAp"
      },
      "outputs": [],
      "source": [
        "5 ** -1"
      ]
    },
    {
      "cell_type": "markdown",
      "metadata": {
        "id": "DBYg-r96-xvk"
      },
      "source": [
        "### print()\n",
        "Bazen sadece bazı değerleri bastırmak isteriz, bunun için print() metodunu kullanabiliriz."
      ]
    },
    {
      "cell_type": "code",
      "execution_count": null,
      "metadata": {
        "id": "kYhnONYu-1PS"
      },
      "outputs": [],
      "source": [
        "print(5)"
      ]
    },
    {
      "cell_type": "markdown",
      "metadata": {
        "id": "UrZ6bJNLAKZs"
      },
      "source": [
        "## String'ler\n",
        "\n",
        "\n",
        "*   consists from characters\n",
        "*   non-scalar\n",
        "*   immutable"
      ]
    },
    {
      "cell_type": "code",
      "execution_count": null,
      "metadata": {
        "id": "agbV3wVSAoDK"
      },
      "outputs": [],
      "source": [
        "5"
      ]
    },
    {
      "cell_type": "code",
      "execution_count": null,
      "metadata": {
        "id": "RJRckUs-A4HB"
      },
      "outputs": [],
      "source": [
        "'5'"
      ]
    },
    {
      "cell_type": "code",
      "execution_count": null,
      "metadata": {
        "id": "CoHswqbSA5z8"
      },
      "outputs": [],
      "source": [
        "\"5\""
      ]
    },
    {
      "cell_type": "code",
      "execution_count": null,
      "metadata": {
        "id": "qfCqw5GbA7XI"
      },
      "outputs": [],
      "source": [
        "'a'"
      ]
    },
    {
      "cell_type": "code",
      "execution_count": null,
      "metadata": {
        "id": "_a7pmU1TA_MY"
      },
      "outputs": [],
      "source": [
        "\"a\""
      ]
    },
    {
      "cell_type": "code",
      "execution_count": null,
      "metadata": {
        "id": "8S8NoeudA_-y"
      },
      "outputs": [],
      "source": [
        "# Hata döndürür. \n",
        "\"a'"
      ]
    },
    {
      "cell_type": "code",
      "execution_count": null,
      "metadata": {
        "id": "GYp0f1pVBKnG"
      },
      "outputs": [],
      "source": [
        "# Burada +'ya operatör olarak davranılmıyor, yazı olarak davranılıyor.\n",
        "\"5 + 10\""
      ]
    },
    {
      "cell_type": "code",
      "execution_count": null,
      "metadata": {
        "id": "PP47a6GBDQAw"
      },
      "outputs": [],
      "source": [
        "2*\"woo\"+'hi'+\"5\""
      ]
    },
    {
      "cell_type": "code",
      "execution_count": null,
      "metadata": {
        "id": "tl3pSzB7DXhf"
      },
      "outputs": [],
      "source": [
        "\"Hey,\"+\"nasılsın\""
      ]
    },
    {
      "cell_type": "code",
      "execution_count": null,
      "metadata": {
        "id": "E9TOyqPzDZUg"
      },
      "outputs": [],
      "source": [
        "\"Hey,\"+\" \"+\"nasılsın\""
      ]
    },
    {
      "cell_type": "code",
      "execution_count": null,
      "metadata": {
        "id": "sfL7Xgt4D1x0"
      },
      "outputs": [],
      "source": [
        "\"woo\"+\"woo\"+\"woo\"+\"woo\""
      ]
    },
    {
      "cell_type": "code",
      "execution_count": null,
      "metadata": {
        "id": "hpHwg-DjD2b1"
      },
      "outputs": [],
      "source": [
        "\"1\"+\"0\"*10\n",
        "print(\"1\"+\"0\"*10)\n",
        "type(\"1\"+\"0\"*10)"
      ]
    },
    {
      "cell_type": "code",
      "execution_count": null,
      "metadata": {
        "id": "3bqWk0rPBNgQ"
      },
      "outputs": [],
      "source": [
        "type('Hmm o zaman x=5 diyebilir miyiz?')"
      ]
    },
    {
      "cell_type": "code",
      "execution_count": null,
      "metadata": {
        "id": "msdFFWc_BOfp"
      },
      "outputs": [],
      "source": [
        "type(\"5\")"
      ]
    },
    {
      "cell_type": "code",
      "execution_count": null,
      "metadata": {
        "id": "27Qk2W4mBRja"
      },
      "outputs": [],
      "source": [
        "type(\"5 + 10\")"
      ]
    },
    {
      "cell_type": "code",
      "execution_count": null,
      "metadata": {
        "id": "5lxhQvIJBTgD"
      },
      "outputs": [],
      "source": [
        "\"Bugün Kadıköy'e gidiyorum\""
      ]
    },
    {
      "cell_type": "code",
      "execution_count": null,
      "metadata": {
        "id": "kP7yhjZUBhWJ"
      },
      "outputs": [],
      "source": [
        "# Hata döndürür\n",
        "'Bugün Kadıköy'e gidiyorum'"
      ]
    },
    {
      "cell_type": "code",
      "execution_count": null,
      "metadata": {
        "id": "nHuB5LJ2FGUU"
      },
      "outputs": [],
      "source": [
        "\"Bana \"Bugün Kadıköy'e gidiyorum\" dedi\""
      ]
    },
    {
      "cell_type": "code",
      "execution_count": null,
      "metadata": {
        "id": "WosFOqaJVQSm"
      },
      "outputs": [],
      "source": [
        "'Bana \"Bugün Kadıköy'e gidiyorum\" dedi'"
      ]
    },
    {
      "cell_type": "markdown",
      "metadata": {
        "id": "4FVo40_DWQhk"
      },
      "source": [
        "### Escape Sequence"
      ]
    },
    {
      "cell_type": "code",
      "execution_count": null,
      "metadata": {
        "id": "VctuEBu6BrNc"
      },
      "outputs": [],
      "source": [
        "\"Bugün İstanbul\\'dan İstanbul\\'a 30 dakikada gittim.\""
      ]
    },
    {
      "cell_type": "code",
      "execution_count": null,
      "metadata": {
        "id": "LBwE4Z2XWWRx"
      },
      "outputs": [],
      "source": [
        "\"Bana \\\"Bugün ne yapıyorsun\\\" dedi\""
      ]
    },
    {
      "cell_type": "code",
      "execution_count": null,
      "metadata": {
        "id": "G6wOQvVlWXyX"
      },
      "outputs": [],
      "source": [
        "'Bugün Kadıköy\\'e gidiyorum'"
      ]
    },
    {
      "cell_type": "code",
      "execution_count": null,
      "metadata": {
        "id": "YPpqfQ5nWd0c"
      },
      "outputs": [],
      "source": [
        "print(\"hey\\nnasılsın\")"
      ]
    },
    {
      "cell_type": "code",
      "execution_count": null,
      "metadata": {
        "id": "UeUJqCoxWf15"
      },
      "outputs": [],
      "source": [
        "print(\"hey\\tnasılsın\")"
      ]
    },
    {
      "cell_type": "code",
      "execution_count": null,
      "metadata": {
        "id": "0qRFa6dAXhGF"
      },
      "outputs": [],
      "source": [
        "print(\"hmm \\\\\")"
      ]
    },
    {
      "cell_type": "code",
      "execution_count": null,
      "metadata": {
        "id": "_LPNaQhUWhw-"
      },
      "outputs": [],
      "source": [
        "print(\"hmm \\\")"
      ]
    },
    {
      "cell_type": "markdown",
      "metadata": {
        "id": "yl5PjvL7eud4"
      },
      "source": [
        "## String'lerde Değer Atama(Variable Assignment)"
      ]
    },
    {
      "cell_type": "code",
      "execution_count": null,
      "metadata": {
        "colab": {
          "base_uri": "https://localhost:8080/"
        },
        "id": "M7knBtnMfOJN",
        "outputId": "cf4f28eb-0f0a-4427-caaa-a1c36928bb59"
      },
      "outputs": [
        {
          "name": "stdout",
          "output_type": "stream",
          "text": [
            "Merhaba nasılsın bugün?\n"
          ]
        }
      ],
      "source": [
        "merhaba = \"Merhaba nasılsın bugün?\"\n",
        "print(merhaba)"
      ]
    },
    {
      "cell_type": "markdown",
      "metadata": {
        "id": "nPw2hZ3Ffg6G"
      },
      "source": [
        "### String Concatenation\n",
        "+ operatörü sayısal veri tipleri üzerine etki edince toplama işlemi yapıyor. Ama uygulandığı objeler string ise yapacağı işlem concatenation (birleştirme) olacak. İki string'i art arta birleştirecek."
      ]
    },
    {
      "cell_type": "code",
      "execution_count": null,
      "metadata": {
        "id": "_vSA29s-fp6v"
      },
      "outputs": [],
      "source": [
        "\"5\" + \"4\""
      ]
    },
    {
      "cell_type": "code",
      "execution_count": null,
      "metadata": {
        "id": "8SF1r_j8fwRD"
      },
      "outputs": [],
      "source": [
        "\"hey\"+\"nasılsın?\""
      ]
    },
    {
      "cell_type": "code",
      "execution_count": null,
      "metadata": {
        "id": "17y_iWfHgIAq"
      },
      "outputs": [],
      "source": [
        "\"hey\" + \" nasılsın?\""
      ]
    },
    {
      "cell_type": "code",
      "execution_count": null,
      "metadata": {
        "id": "nihEc1YWgK95"
      },
      "outputs": [],
      "source": [
        "\"hey\" + \" \" + \"nasılsın?\""
      ]
    },
    {
      "cell_type": "code",
      "execution_count": null,
      "metadata": {
        "id": "qfaK6DhI6ljI"
      },
      "outputs": [],
      "source": [
        "mesaj = \"Merhaba\"\n",
        "isim = \"Kerem\"\n",
        "mesaj + \" \" + isim"
      ]
    },
    {
      "cell_type": "code",
      "execution_count": null,
      "metadata": {
        "id": "DlhIQN6e7RBj"
      },
      "outputs": [],
      "source": [
        "merhaba=\"Merhaba, kardeşim. Hoş geldin.\"\n",
        "print(merhaba)"
      ]
    },
    {
      "cell_type": "code",
      "execution_count": null,
      "metadata": {
        "id": "qiKzXORr7U9r"
      },
      "outputs": [],
      "source": [
        "hi=\"selam\"\n",
        "name=\" Name\"\n",
        "hi+name"
      ]
    },
    {
      "cell_type": "code",
      "execution_count": null,
      "metadata": {
        "id": "Q1dKp_Bp7ybM"
      },
      "outputs": [],
      "source": [
        "thisIsMyString=\"Malazgirt\"\n",
        "print(thisIsMyString[4])"
      ]
    },
    {
      "cell_type": "code",
      "execution_count": null,
      "metadata": {
        "id": "Spz9rc909aJ8"
      },
      "outputs": [],
      "source": [
        "teStr = \"Hi, Stardust!\"\n",
        "print(\"Original String: \"+ teStr)"
      ]
    },
    {
      "cell_type": "code",
      "execution_count": null,
      "metadata": {
        "id": "nUmn224I7m_Z"
      },
      "outputs": [],
      "source": [
        "bootcamp=\"kodluyoruz\"\n",
        "print(set(bootcamp))\n",
        "#len(set(bootcamp))"
      ]
    },
    {
      "cell_type": "code",
      "execution_count": null,
      "metadata": {
        "id": "Fj9FzlVJ6whL"
      },
      "outputs": [],
      "source": [
        "# Bu ifadenin değerini de başka bir değişkende tutabilirdik\n",
        "karsilama = mesaj + \" \" + isim\n",
        "print(karsilama)"
      ]
    },
    {
      "cell_type": "code",
      "execution_count": null,
      "metadata": {
        "id": "tHbrVLmt8URD"
      },
      "outputs": [],
      "source": [
        "strangeString=\"This is the first time that I am using string functions for experimental experience on Python.\"\n",
        "novaList=list(strangeString)\n",
        "s=len(novaList)\n",
        "print(s)"
      ]
    },
    {
      "cell_type": "code",
      "execution_count": null,
      "metadata": {
        "id": "qidlVJmK77Dc"
      },
      "outputs": [],
      "source": [
        "novaStr=\"ebekusagi\"\n",
        "novaStr=novaStr[:5]+'sh'+novaStr[6:]\n",
        "print(novaStr)\n",
        "novaStr"
      ]
    },
    {
      "cell_type": "code",
      "execution_count": null,
      "metadata": {
        "id": "C_4drLzQ8VMV"
      },
      "outputs": [],
      "source": [
        "thisIsMyNewString=\"Antakya\"\n",
        "n_list=list(thisIsMyNewString)\n",
        "n_list[5]='i'\n",
        "thisIsMyNewString=''.join(n_list)\n",
        "print(thisIsMyNewString)"
      ]
    },
    {
      "cell_type": "code",
      "execution_count": null,
      "metadata": {
        "id": "h253hDd18Xwh"
      },
      "outputs": [],
      "source": [
        "str=\"HocusPocus\"\n",
        "str=str[:5]+'F'+str[6:]\n",
        "print(str)\n",
        "str"
      ]
    },
    {
      "cell_type": "code",
      "execution_count": null,
      "metadata": {
        "id": "KNiUiroP83xI"
      },
      "outputs": [],
      "source": [
        "randomness=\"randomnessrandomnessrandomnessrandomnessrandomnessrandomnessrandomnessrandomnessrandomnessrandomnessrandomnessrandomnessrandomnessrandomnessrandomnessrandomnessrandomnessrandomnessrandomnessrandomnessrandomnessrandomnessrandomnessrandomnessrandomnessrandomnessrandomnessrandomnessrandomnessrandomnessrandomnessrandomnessrandomnessrandomnessrandomnessrandomnessrandomnessrandomnessrandomnessrandomnessrandomnessrandomnessrandomnessrandomnessrandomnessrandomnessrandomnessrandomnessrandomnessrandomnessrandomnessrandomnessrandomnessrandomnessrandomnessrandomnessrandomnessrandomnessrandomnessrandomnessrandomnessrandomnessrandomnessrandomnessrandomnessrandomnessrandomnessrandomnessrandomnessrandomnessrandomnessrandomnessrandomnessrandomnessrandomnessrandomnessrandomnessrandomnessrandomnessrandomnessrandomnessrandomnessrandomnessrandomnessrandomnessrandomnessrandomnessrandomnessrandomnessrandomnessrandomnessrandomnessrandomnessrandomnessrandomnessrandomnessrandomnessrandomnessrandomnessrandomness\"\n",
        "print(randomness)\n",
        "print(len(randomness))\n",
        "len(randomness)"
      ]
    },
    {
      "cell_type": "code",
      "execution_count": null,
      "metadata": {
        "id": "vMDPdiXfR6cT"
      },
      "outputs": [],
      "source": [
        "teStr=\"Hi, Stardust!\"\n",
        "print(len(teStr.strip()))"
      ]
    },
    {
      "cell_type": "code",
      "execution_count": null,
      "metadata": {
        "id": "ykyhnwdRSAC6"
      },
      "outputs": [],
      "source": [
        "print(\"Converting a string to lower case\")\n",
        "print(teStr.lower())"
      ]
    },
    {
      "cell_type": "code",
      "execution_count": null,
      "metadata": {
        "id": "6Af4tXYySLpp"
      },
      "outputs": [],
      "source": [
        "print(\"Converting a string to upper case\")\n",
        "print(teStr.upper())"
      ]
    },
    {
      "cell_type": "code",
      "execution_count": null,
      "metadata": {
        "id": "-TqslM_oSN9R"
      },
      "outputs": [],
      "source": [
        "print(\"Capitalizing the String \\nOnly the first letter in the string will be capitalized\")\n",
        "print(teStr.capitalize())"
      ]
    },
    {
      "cell_type": "code",
      "execution_count": null,
      "metadata": {
        "id": "X4uUG5uMSQkr"
      },
      "outputs": [],
      "source": [
        "print(\"Trying to slice out a substring between given indexes\\nSubstring from index 1 to 8\")\n",
        "print(teStr[1:8])"
      ]
    },
    {
      "cell_type": "code",
      "execution_count": null,
      "metadata": {
        "id": "FDWjx0sBSSXq"
      },
      "outputs": [],
      "source": [
        "print(\"Substring from the start till character at index = 7 (start of string is index 0): \")\n",
        "print(teStr[:8])"
      ]
    },
    {
      "cell_type": "code",
      "execution_count": null,
      "metadata": {
        "id": "KiIwK1T6SVSt"
      },
      "outputs": [],
      "source": [
        "print(\"Substring from the character at index = 7, till the end of the string (remember: start of string is index 0): \")\n",
        "print(teStr[7:])"
      ]
    },
    {
      "cell_type": "code",
      "execution_count": null,
      "metadata": {
        "id": "GiqlP1s8SXjz"
      },
      "outputs": [],
      "source": [
        "print(\"Find the position of a substring within the string. \\nThis gives us the first index during a left to right scan. \\nIf the string is not found, it returns -1 \\nFind the index from which the substring ', S' begins within the test string\")\n",
        "print(teStr.find(', S'))"
      ]
    },
    {
      "cell_type": "code",
      "execution_count": null,
      "metadata": {
        "id": "6Vx4nBDRSblG"
      },
      "outputs": [],
      "source": [
        "print(\"Now, let's look for a substring which is not a part of the given string\")\n",
        "print(teStr.find('xxy'))"
      ]
    },
    {
      "cell_type": "code",
      "execution_count": null,
      "metadata": {
        "id": "IjY8cg4SScOT"
      },
      "outputs": [],
      "source": [
        "print(\"Now, trying to find the index of a substring between specified indexes only \\nNow, trying to find a substring between specified indexes only: looking for 'l' between 4 and 9\")\n",
        "print(teStr.find('i',0,9))"
      ]
    },
    {
      "cell_type": "code",
      "execution_count": null,
      "metadata": {
        "id": "wbbxgql2Sfye"
      },
      "outputs": [],
      "source": [
        "print(\"rfind is used to find the index from the reverse \\nSo, testString1.rfind('l') will look for the last index of l in the string \\nfind('l') on the given string returns the following index (scanning the string from left to right):\")\n",
        "print(teStr.find('t'))"
      ]
    },
    {
      "cell_type": "code",
      "execution_count": null,
      "metadata": {
        "id": "Y-8jMsRCSiD7"
      },
      "outputs": [],
      "source": [
        "print(\"rfind('l') on the given string returns the following index (this scans the string from right to left):\")\n",
        "print(teStr.rfind('u'))"
      ]
    },
    {
      "cell_type": "code",
      "execution_count": null,
      "metadata": {
        "id": "vSjHFiEnSkf3"
      },
      "outputs": [],
      "source": [
        "print(\"Now let us try to replace/substitute a substring of this string with another string \\nReplacing Stardust with Planet\")\n",
        "print(teStr.replace(\"Stardust\",\"Planet\"))"
      ]
    },
    {
      "cell_type": "code",
      "execution_count": null,
      "metadata": {
        "id": "L8dHh46fSqI5"
      },
      "outputs": [],
      "source": [
        "print(\"Now let us try to split the string, into separate words \\nlet us split it wherever there is a space \\nSplitting the string into words, wherever there is a space\")\n",
        "print(teStr.split(\" \"))\n",
        "print(teStr.rsplit(\" \"))"
      ]
    },
    {
      "cell_type": "markdown",
      "metadata": {
        "id": "fTbwxO3E6-p6"
      },
      "source": [
        "### Successive Concatenation(Ardışık Birleştirme)"
      ]
    },
    {
      "cell_type": "code",
      "execution_count": null,
      "metadata": {
        "id": "boqd-Wh-7D6v"
      },
      "outputs": [],
      "source": [
        "4 * \"hey\""
      ]
    },
    {
      "cell_type": "code",
      "execution_count": null,
      "metadata": {
        "id": "cswC8rv87I9n"
      },
      "outputs": [],
      "source": [
        "\"1\" + \"0\" * 10"
      ]
    },
    {
      "cell_type": "markdown",
      "metadata": {
        "id": "_-3XiG9FAvG_"
      },
      "source": [
        "### len()\n",
        "Bu metod ile (metodları ileride ayrıntılı olara göreceğiz), elimizdeki string'in kaç karakterden oluştuğunu öğrenebiliriz (boşluklar da karakter olduğu için onlar da sayılıyor)"
      ]
    },
    {
      "cell_type": "code",
      "execution_count": null,
      "metadata": {
        "id": "fyvxWRGYAzs-"
      },
      "outputs": [],
      "source": [
        "len('Arabacı TakımYIldızı')"
      ]
    },
    {
      "cell_type": "code",
      "execution_count": null,
      "metadata": {
        "id": "eRl8KNqrCTVd"
      },
      "outputs": [],
      "source": [
        "!pip install pywhatkit\n",
        "import pywhatkit as kit\n",
        "try:\n",
        "  kit.sendwhatmsg(\"+905427290153\", \"i love python\", 18, 47)\n",
        "print(\"y\")\n",
        "except:\n",
        "  print(\"n\")"
      ]
    },
    {
      "cell_type": "code",
      "execution_count": null,
      "metadata": {
        "id": "g1aovZg9ENHn"
      },
      "outputs": [],
      "source": [
        "from turtle import*\n",
        "\n",
        "color('red', 'yellow')\n",
        "speed(10)\n",
        "begin_fill()\n",
        "while True:\n",
        "  forward(500)\n",
        "  left(170)\n",
        "  if abs(pos()) < 1:\n",
        "    break\n",
        "end_fill()\n",
        "done()"
      ]
    }
  ],
  "metadata": {
    "colab": {
      "name": "PythonLab.ipynb",
      "provenance": [],
      "authorship_tag": "ABX9TyPFVyuhPRBBpzOKY8eIXjQn",
      "include_colab_link": true
    },
    "kernelspec": {
      "display_name": "Python 3",
      "name": "python3"
    },
    "language_info": {
      "name": "python"
    }
  },
  "nbformat": 4,
  "nbformat_minor": 0
}